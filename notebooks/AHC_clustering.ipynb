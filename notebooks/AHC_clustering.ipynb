{
 "cells": [
  {
   "cell_type": "markdown",
   "metadata": {},
   "source": [
    "## AHC (1D)"
   ]
  },
  {
   "cell_type": "code",
   "execution_count": 145,
   "metadata": {},
   "outputs": [],
   "source": [
    "import sys\n",
    "if '../' not in sys.path:\n",
    "    sys.path.append('../')\n",
    "\n",
    "import seaborn as sns\n",
    "import pandas as pd\n",
    "import numpy as np\n",
    "\n",
    "from sklearn import metrics\n",
    "from sklearn.model_selection import ParameterGrid\n",
    "from matplotlib import pyplot as plt\n",
    "from jenkspy import JenksNaturalBreaks\n",
    "\n",
    "from src.clustering import SingleDimensionalClustererFinder, SklearnSingleDimensionalClustererFinder, GeneralClustererFinder\n",
    "from sklearn.cluster import AgglomerativeClustering\n",
    "import scipy.cluster.hierarchy as sch\n",
    "from sklearn.preprocessing import MinMaxScaler"
   ]
  },
  {
   "cell_type": "code",
   "execution_count": 2,
   "metadata": {},
   "outputs": [
    {
     "data": {
      "text/html": [
       "<div>\n",
       "<style scoped>\n",
       "    .dataframe tbody tr th:only-of-type {\n",
       "        vertical-align: middle;\n",
       "    }\n",
       "\n",
       "    .dataframe tbody tr th {\n",
       "        vertical-align: top;\n",
       "    }\n",
       "\n",
       "    .dataframe thead th {\n",
       "        text-align: right;\n",
       "    }\n",
       "</style>\n",
       "<table border=\"1\" class=\"dataframe\">\n",
       "  <thead>\n",
       "    <tr style=\"text-align: right;\">\n",
       "      <th></th>\n",
       "      <th>WELL</th>\n",
       "      <th>row</th>\n",
       "      <th>column</th>\n",
       "      <th>VALUE</th>\n",
       "      <th>Well type</th>\n",
       "      <th>CONTROL OUTLIER</th>\n",
       "      <th>CTRL NEG Mean(VALUE)</th>\n",
       "      <th>CTRL NEG Standard deviation(VALUE)</th>\n",
       "      <th>CTRL NEG Median(VALUE)</th>\n",
       "      <th>CTRL POS Mean(VALUE)</th>\n",
       "      <th>...</th>\n",
       "      <th>CTRL POS Median(VALUE)</th>\n",
       "      <th>CMPD Mean(VALUE)</th>\n",
       "      <th>CMPD Standard deviation(VALUE)</th>\n",
       "      <th>Z'</th>\n",
       "      <th>Z' robust</th>\n",
       "      <th>% ACTIVATION</th>\n",
       "      <th>Z score</th>\n",
       "      <th>ACTIVITY (above 30%)</th>\n",
       "      <th>ACTIVITY (Z score above 3)</th>\n",
       "      <th>Transfer Status</th>\n",
       "    </tr>\n",
       "  </thead>\n",
       "  <tbody>\n",
       "    <tr>\n",
       "      <th>0</th>\n",
       "      <td>A01</td>\n",
       "      <td>1</td>\n",
       "      <td>1</td>\n",
       "      <td>12123</td>\n",
       "      <td>CMPD</td>\n",
       "      <td>NaN</td>\n",
       "      <td>11282.0</td>\n",
       "      <td>388.181361</td>\n",
       "      <td>11274.5</td>\n",
       "      <td>96504.3125</td>\n",
       "      <td>...</td>\n",
       "      <td>96602.5</td>\n",
       "      <td>11926.059659</td>\n",
       "      <td>2610.13325</td>\n",
       "      <td>0.870037</td>\n",
       "      <td>0.870198</td>\n",
       "      <td>0.986831</td>\n",
       "      <td>0.075452</td>\n",
       "      <td>INACTIVE</td>\n",
       "      <td>Z score below 3</td>\n",
       "      <td>OK</td>\n",
       "    </tr>\n",
       "    <tr>\n",
       "      <th>1</th>\n",
       "      <td>A02</td>\n",
       "      <td>1</td>\n",
       "      <td>2</td>\n",
       "      <td>10507</td>\n",
       "      <td>CMPD</td>\n",
       "      <td>NaN</td>\n",
       "      <td>11282.0</td>\n",
       "      <td>388.181361</td>\n",
       "      <td>11274.5</td>\n",
       "      <td>96504.3125</td>\n",
       "      <td>...</td>\n",
       "      <td>96602.5</td>\n",
       "      <td>11926.059659</td>\n",
       "      <td>2610.13325</td>\n",
       "      <td>0.870037</td>\n",
       "      <td>0.870198</td>\n",
       "      <td>-0.909386</td>\n",
       "      <td>-0.543673</td>\n",
       "      <td>INACTIVE</td>\n",
       "      <td>Z score below 3</td>\n",
       "      <td>OK</td>\n",
       "    </tr>\n",
       "    <tr>\n",
       "      <th>2</th>\n",
       "      <td>A03</td>\n",
       "      <td>1</td>\n",
       "      <td>3</td>\n",
       "      <td>11176</td>\n",
       "      <td>CMPD</td>\n",
       "      <td>NaN</td>\n",
       "      <td>11282.0</td>\n",
       "      <td>388.181361</td>\n",
       "      <td>11274.5</td>\n",
       "      <td>96504.3125</td>\n",
       "      <td>...</td>\n",
       "      <td>96602.5</td>\n",
       "      <td>11926.059659</td>\n",
       "      <td>2610.13325</td>\n",
       "      <td>0.870037</td>\n",
       "      <td>0.870198</td>\n",
       "      <td>-0.124381</td>\n",
       "      <td>-0.287365</td>\n",
       "      <td>INACTIVE</td>\n",
       "      <td>Z score below 3</td>\n",
       "      <td>OK</td>\n",
       "    </tr>\n",
       "  </tbody>\n",
       "</table>\n",
       "<p>3 rows × 21 columns</p>\n",
       "</div>"
      ],
      "text/plain": [
       "  WELL  row  column  VALUE Well type  CONTROL OUTLIER  CTRL NEG Mean(VALUE)  \\\n",
       "0  A01    1       1  12123      CMPD              NaN               11282.0   \n",
       "1  A02    1       2  10507      CMPD              NaN               11282.0   \n",
       "2  A03    1       3  11176      CMPD              NaN               11282.0   \n",
       "\n",
       "   CTRL NEG Standard deviation(VALUE)  CTRL NEG Median(VALUE)  \\\n",
       "0                          388.181361                 11274.5   \n",
       "1                          388.181361                 11274.5   \n",
       "2                          388.181361                 11274.5   \n",
       "\n",
       "   CTRL POS Mean(VALUE)  ...  CTRL POS Median(VALUE)  CMPD Mean(VALUE)  \\\n",
       "0            96504.3125  ...                 96602.5      11926.059659   \n",
       "1            96504.3125  ...                 96602.5      11926.059659   \n",
       "2            96504.3125  ...                 96602.5      11926.059659   \n",
       "\n",
       "   CMPD Standard deviation(VALUE)        Z'  Z' robust  % ACTIVATION  \\\n",
       "0                      2610.13325  0.870037   0.870198      0.986831   \n",
       "1                      2610.13325  0.870037   0.870198     -0.909386   \n",
       "2                      2610.13325  0.870037   0.870198     -0.124381   \n",
       "\n",
       "    Z score  ACTIVITY (above 30%) ACTIVITY (Z score above 3) Transfer Status  \n",
       "0  0.075452              INACTIVE            Z score below 3              OK  \n",
       "1 -0.543673              INACTIVE            Z score below 3              OK  \n",
       "2 -0.287365              INACTIVE            Z score below 3              OK  \n",
       "\n",
       "[3 rows x 21 columns]"
      ]
     },
     "execution_count": 2,
     "metadata": {},
     "output_type": "execute_result"
    }
   ],
   "source": [
    "data = pd.read_excel(\"../data/raw/ROS1_all data randomised.xlsx\")\n",
    "series = data[\"VALUE\"].to_numpy()\n",
    "data.head(3)"
   ]
  },
  {
   "cell_type": "markdown",
   "metadata": {},
   "source": [
    "### Silhouette metric"
   ]
  },
  {
   "cell_type": "code",
   "execution_count": 16,
   "metadata": {},
   "outputs": [
    {
     "name": "stdout",
     "output_type": "stream",
     "text": [
      "Params: {'linkage': 'ward', 'n_clusters': 2} | Score: 0.9038193627928365\n",
      "Params: {'linkage': 'ward', 'n_clusters': 3} | Score: 0.8341166801103759\n",
      "Params: {'linkage': 'ward', 'n_clusters': 4} | Score: 0.834935883652877\n",
      "Params: {'linkage': 'ward', 'n_clusters': 5} | Score: 0.5648554008628156\n",
      "Params: {'linkage': 'ward', 'n_clusters': 6} | Score: 0.5896534542683013\n",
      "Params: {'linkage': 'ward', 'n_clusters': 7} | Score: 0.5898335030812537\n",
      "Params: {'linkage': 'ward', 'n_clusters': 8} | Score: 0.6001165220702561\n",
      "Params: {'linkage': 'ward', 'n_clusters': 9} | Score: 0.6007676673566165\n",
      "Params: {'linkage': 'average', 'n_clusters': 2} | Score: 0.9038193627928365\n",
      "Params: {'linkage': 'average', 'n_clusters': 3} | Score: 0.8837135222373859\n",
      "Params: {'linkage': 'average', 'n_clusters': 4} | Score: 0.8409303252765453\n",
      "Params: {'linkage': 'average', 'n_clusters': 5} | Score: 0.6817090576775502\n",
      "Params: {'linkage': 'average', 'n_clusters': 6} | Score: 0.6819496195533233\n",
      "Params: {'linkage': 'average', 'n_clusters': 7} | Score: 0.6818403661200493\n",
      "Params: {'linkage': 'average', 'n_clusters': 8} | Score: 0.835913514517339\n",
      "Params: {'linkage': 'average', 'n_clusters': 9} | Score: 0.8322048349219021\n",
      "\n",
      "DONE\n",
      "\n",
      "Best Score: 0.9038193627928365\n",
      "Best Params: {'linkage': 'ward', 'n_clusters': 2}\n"
     ]
    }
   ],
   "source": [
    "AHC_params = ParameterGrid({\"n_clusters\": range(2, 10), \"linkage\":['ward', 'average']})\n",
    "\n",
    "AHC_clusterer_finder = SklearnSingleDimensionalClustererFinder(\n",
    "    param_grid=AHC_params, \n",
    "    scoring_function=metrics.silhouette_score,\n",
    "    clusterer=AgglomerativeClustering(n_clusters=2)# linkage = 'average')\n",
    ")\n",
    "\n",
    "best_AHC_prediction = AHC_clusterer_finder.cluster_data_series(series, verbose=True)"
   ]
  },
  {
   "cell_type": "markdown",
   "metadata": {},
   "source": [
    "### Davies-Boulding metric"
   ]
  },
  {
   "cell_type": "code",
   "execution_count": 31,
   "metadata": {},
   "outputs": [
    {
     "name": "stdout",
     "output_type": "stream",
     "text": [
      "Params: {'linkage': 'ward', 'n_clusters': 2} | Score: -0.3826233002663599\n",
      "Params: {'linkage': 'ward', 'n_clusters': 3} | Score: -0.3278575275207647\n",
      "Params: {'linkage': 'ward', 'n_clusters': 4} | Score: -0.29494341551968634\n",
      "Params: {'linkage': 'ward', 'n_clusters': 5} | Score: -0.44996921495875536\n",
      "Params: {'linkage': 'ward', 'n_clusters': 6} | Score: -0.44402075694950827\n",
      "Params: {'linkage': 'ward', 'n_clusters': 7} | Score: -0.43099101144083135\n",
      "Params: {'linkage': 'ward', 'n_clusters': 8} | Score: -0.4560019072252756\n",
      "Params: {'linkage': 'ward', 'n_clusters': 9} | Score: -0.427750426031368\n",
      "Params: {'linkage': 'average', 'n_clusters': 2} | Score: -0.3826233002663599\n",
      "Params: {'linkage': 'average', 'n_clusters': 3} | Score: -0.34072005253407833\n",
      "Params: {'linkage': 'average', 'n_clusters': 4} | Score: -0.3727299969149864\n",
      "Params: {'linkage': 'average', 'n_clusters': 5} | Score: -0.4179327338985385\n",
      "Params: {'linkage': 'average', 'n_clusters': 6} | Score: -0.38061336725698297\n",
      "Params: {'linkage': 'average', 'n_clusters': 7} | Score: -0.4150712322780003\n",
      "Params: {'linkage': 'average', 'n_clusters': 8} | Score: -0.3592862383638462\n",
      "Params: {'linkage': 'average', 'n_clusters': 9} | Score: -0.371953856755778\n",
      "\n",
      "DONE\n",
      "\n",
      "Best Score: -0.29494341551968634\n",
      "Best Params: {'linkage': 'ward', 'n_clusters': 4}\n"
     ]
    }
   ],
   "source": [
    "# As previously, compared with Davies-Boulding metric\n",
    "negated_davies_boulding = lambda *args, **kwargs: -metrics.davies_bouldin_score(*args, **kwargs)\n",
    "\n",
    "AHC_clusterer_finder_DB = SklearnSingleDimensionalClustererFinder(\n",
    "    param_grid=AHC_params, \n",
    "    scoring_function=negated_davies_boulding,\n",
    "    clusterer=AgglomerativeClustering(n_clusters=2)\n",
    ")\n",
    "\n",
    "best_AHC_prediction_DB = AHC_clusterer_finder_DB.cluster_data_series(series, verbose=True)"
   ]
  },
  {
   "cell_type": "code",
   "execution_count": 33,
   "metadata": {},
   "outputs": [
    {
     "data": {
      "image/png": "[encoded data removed]",
      "text/plain": [
       "<Figure size 432x288 with 1 Axes>"
      ]
     },
     "metadata": {
      "needs_background": "light"
     },
     "output_type": "display_data"
    }
   ],
   "source": [
    "dendrogram = sch.dendrogram(sch.linkage(series.reshape(-1, 1), method='ward'))\n",
    "plt.show()"
   ]
  },
  {
   "cell_type": "markdown",
   "metadata": {},
   "source": [
    "## Combine experiment no. 1 and 2"
   ]
  },
  {
   "cell_type": "code",
   "execution_count": 34,
   "metadata": {},
   "outputs": [],
   "source": [
    "def parse_barcode_col(data):\n",
    "   data[['Barcode_prefix', 'Barcode_exp', 'Barcode_suffix']] = data['Barcode assay plate'].str.extract(pat='(.{13})([^0-9]*)(.*)') \n",
    "   return data"
   ]
  },
  {
   "cell_type": "code",
   "execution_count": 35,
   "metadata": {},
   "outputs": [],
   "source": [
    "data_ROS1 = pd.read_excel(\"../data/raw/ROS1_DTT_fanonymised_limited.xlsx\")\n",
    "data_ROS1 = parse_barcode_col(data_ROS1)\n",
    "# data_ROS1.head(3)"
   ]
  },
  {
   "cell_type": "code",
   "execution_count": 36,
   "metadata": {},
   "outputs": [],
   "source": [
    "data_ROS2 = pd.read_excel(\"../data/raw/ROS2_HRP anonymised limited.xlsx\")\n",
    "data_ROS2 = parse_barcode_col(data_ROS2)\n",
    "# data_ROS2.head(3)"
   ]
  },
  {
   "cell_type": "code",
   "execution_count": 169,
   "metadata": {},
   "outputs": [
    {
     "data": {
      "text/html": [
       "<div>\n",
       "<style scoped>\n",
       "    .dataframe tbody tr th:only-of-type {\n",
       "        vertical-align: middle;\n",
       "    }\n",
       "\n",
       "    .dataframe tbody tr th {\n",
       "        vertical-align: top;\n",
       "    }\n",
       "\n",
       "    .dataframe thead th {\n",
       "        text-align: right;\n",
       "    }\n",
       "</style>\n",
       "<table border=\"1\" class=\"dataframe\">\n",
       "  <thead>\n",
       "    <tr style=\"text-align: right;\">\n",
       "      <th></th>\n",
       "      <th>Compound ID</th>\n",
       "      <th>Barcode_prefix</th>\n",
       "      <th>Barcode_suffix</th>\n",
       "      <th>VALUE_x</th>\n",
       "      <th>VALUE_y</th>\n",
       "    </tr>\n",
       "  </thead>\n",
       "  <tbody>\n",
       "    <tr>\n",
       "      <th>0</th>\n",
       "      <td>102092</td>\n",
       "      <td>B1007L2002L03</td>\n",
       "      <td>1</td>\n",
       "      <td>27269</td>\n",
       "      <td>0.104</td>\n",
       "    </tr>\n",
       "    <tr>\n",
       "      <th>1</th>\n",
       "      <td>102092</td>\n",
       "      <td>B1007L2002L03</td>\n",
       "      <td>2</td>\n",
       "      <td>27290</td>\n",
       "      <td>0.105</td>\n",
       "    </tr>\n",
       "    <tr>\n",
       "      <th>2</th>\n",
       "      <td>102091</td>\n",
       "      <td>B1007L2002L03</td>\n",
       "      <td>1</td>\n",
       "      <td>27128</td>\n",
       "      <td>0.102</td>\n",
       "    </tr>\n",
       "    <tr>\n",
       "      <th>3</th>\n",
       "      <td>102091</td>\n",
       "      <td>B1007L2002L03</td>\n",
       "      <td>2</td>\n",
       "      <td>26992</td>\n",
       "      <td>0.111</td>\n",
       "    </tr>\n",
       "    <tr>\n",
       "      <th>4</th>\n",
       "      <td>102090</td>\n",
       "      <td>B1007L2002L03</td>\n",
       "      <td>1</td>\n",
       "      <td>27276</td>\n",
       "      <td>0.102</td>\n",
       "    </tr>\n",
       "  </tbody>\n",
       "</table>\n",
       "</div>"
      ],
      "text/plain": [
       "   Compound ID Barcode_prefix Barcode_suffix  VALUE_x  VALUE_y\n",
       "0       102092  B1007L2002L03              1    27269    0.104\n",
       "1       102092  B1007L2002L03              2    27290    0.105\n",
       "2       102091  B1007L2002L03              1    27128    0.102\n",
       "3       102091  B1007L2002L03              2    26992    0.111\n",
       "4       102090  B1007L2002L03              1    27276    0.102"
      ]
     },
     "execution_count": 169,
     "metadata": {},
     "output_type": "execute_result"
    }
   ],
   "source": [
    "# pd.set_option('display.max_columns', None)\n",
    "data_all = pd.merge(data_ROS1, data_ROS2, left_on=['DTT  - compound ID', 'Barcode_prefix', 'Barcode_suffix'], right_on = ['HRP - compound ID', 'Barcode_prefix', 'Barcode_suffix'])\\\n",
    "    .rename(columns={'HRP - compound ID':'Compound ID'})[['Compound ID', 'Barcode_prefix', 'Barcode_suffix', 'VALUE_x', 'VALUE_y']]\n",
    "\n",
    "data_all.head()"
   ]
  },
  {
   "cell_type": "code",
   "execution_count": 170,
   "metadata": {},
   "outputs": [],
   "source": [
    "def standarize_column(df, col):\n",
    "    new_col = col+'_stan'\n",
    "    df[new_col] = (df[col] - df[col].mean()) / df[col].std()\n",
    "    return df"
   ]
  },
  {
   "cell_type": "code",
   "execution_count": 180,
   "metadata": {},
   "outputs": [
    {
     "name": "stdout",
     "output_type": "stream",
     "text": [
      "   Compound ID Barcode_prefix Barcode_suffix  VALUE_x  VALUE_y  VALUE_x_norm  \\\n",
      "0       102092  B1007L2002L03              1    27269    0.104      0.065126   \n",
      "1       102092  B1007L2002L03              2    27290    0.105      0.065267   \n",
      "2       102091  B1007L2002L03              1    27128    0.102      0.064183   \n",
      "3       102091  B1007L2002L03              2    26992    0.111      0.063273   \n",
      "4       102090  B1007L2002L03              1    27276    0.102      0.065173   \n",
      "\n",
      "   VALUE_y_norm  \n",
      "0      0.026987  \n",
      "1      0.028486  \n",
      "2      0.023988  \n",
      "3      0.037481  \n",
      "4      0.023988  \n"
     ]
    },
    {
     "data": {
      "text/plain": [
       "array([[0.06512636, 0.02698651],\n",
       "       [0.06526683, 0.02848576],\n",
       "       [0.06418318, 0.02398801],\n",
       "       ...,\n",
       "       [0.05953416, 0.02398801],\n",
       "       [0.04867754, 0.02548726],\n",
       "       [0.04719922, 0.02398801]])"
      ]
     },
     "execution_count": 180,
     "metadata": {},
     "output_type": "execute_result"
    }
   ],
   "source": [
    "# min-max normalization\n",
    "scaler = MinMaxScaler()\n",
    "cols_to_norm = ['VALUE_x','VALUE_y']\n",
    "new_names = ['VALUE_x_norm','VALUE_y_norm']\n",
    "data_all[new_names] = scaler.fit_transform(data_all[cols_to_norm])\n",
    "print(data_all.head())\n",
    "\n",
    "X = data_all[new_names].to_numpy()\n",
    "X"
   ]
  },
  {
   "cell_type": "code",
   "execution_count": 177,
   "metadata": {},
   "outputs": [
    {
     "name": "stdout",
     "output_type": "stream",
     "text": [
      "Params: {'n_clusters': 2} | Score: 0.9668603343418097\n",
      "Params: {'n_clusters': 3} | Score: 0.9521305831542471\n",
      "Params: {'n_clusters': 4} | Score: 0.9402417116921766\n",
      "Params: {'n_clusters': 5} | Score: 0.9399175691068355\n",
      "Params: {'n_clusters': 6} | Score: 0.46455113565186196\n",
      "Params: {'n_clusters': 7} | Score: 0.43657283028715305\n",
      "Params: {'n_clusters': 8} | Score: 0.4367491504128263\n",
      "Params: {'n_clusters': 9} | Score: 0.4371790043964146\n",
      "\n",
      "DONE\n",
      "\n",
      "Best Score: 0.9668603343418097\n",
      "Best Params: {'n_clusters': 2}\n"
     ]
    }
   ],
   "source": [
    "AHC_params = ParameterGrid({\"n_clusters\": range(2, 10)})\n",
    "\n",
    "AHC_clusterer_finder = GeneralClustererFinder(\n",
    "    param_grid=AHC_params, \n",
    "    scoring_function=metrics.silhouette_score,\n",
    "    clusterer=AgglomerativeClustering(n_clusters=2)\n",
    ")\n",
    "\n",
    "best_AHC_prediction = AHC_clusterer_finder.cluster_data_series(X, verbose=True)"
   ]
  },
  {
   "cell_type": "code",
   "execution_count": 178,
   "metadata": {},
   "outputs": [
    {
     "name": "stdout",
     "output_type": "stream",
     "text": [
      "Params: {'n_clusters': 2} | Score: -0.30042484963616106\n",
      "Params: {'n_clusters': 3} | Score: -0.4604620712267778\n",
      "Params: {'n_clusters': 4} | Score: -0.36315641499389817\n",
      "Params: {'n_clusters': 5} | Score: -0.4137520945809069\n",
      "Params: {'n_clusters': 6} | Score: -0.5759531919894366\n",
      "Params: {'n_clusters': 7} | Score: -0.5443382822911221\n",
      "Params: {'n_clusters': 8} | Score: -0.5250194985483421\n",
      "Params: {'n_clusters': 9} | Score: -0.5065165464186339\n",
      "\n",
      "DONE\n",
      "\n",
      "Best Score: -0.30042484963616106\n",
      "Best Params: {'n_clusters': 2}\n"
     ]
    }
   ],
   "source": [
    "AHC_clusterer_finder_DB = GeneralClustererFinder(\n",
    "    param_grid=AHC_params, \n",
    "    scoring_function=negated_davies_boulding,\n",
    "    clusterer=AgglomerativeClustering(n_clusters=2)\n",
    ")\n",
    "\n",
    "best_AHC_prediction_DB = AHC_clusterer_finder_DB.cluster_data_series(X, verbose=True)"
   ]
  },
  {
   "cell_type": "code",
   "execution_count": 183,
   "metadata": {},
   "outputs": [
    {
     "name": "stderr",
     "output_type": "stream",
     "text": [
      "c:\\Users\\agata\\anaconda3\\envs\\data-mining2\\lib\\site-packages\\seaborn\\_decorators.py:36: FutureWarning: Pass the following variables as keyword args: x, y. From version 0.12, the only valid positional argument will be `data`, and passing other arguments without an explicit keyword will result in an error or misinterpretation.\n",
      "  warnings.warn(\n"
     ]
    },
    {
     "data": {
      "image/png": "[encoded data removed]",
      "text/plain": [
       "<Figure size 720x576 with 1 Axes>"
      ]
     },
     "metadata": {
      "needs_background": "light"
     },
     "output_type": "display_data"
    }
   ],
   "source": [
    "labels = AHC_clusterer_finder.cached_best_prediction\n",
    "plt.figure(figsize=(10, 8))\n",
    "sns.scatterplot(X[:,0], X[:,1], hue=labels).set_title('AHC plot')\n",
    "plt.show() "
   ]
  }
 ],
 "metadata": {
  "kernelspec": {
   "display_name": "Python 3.10.2 ('data-mining2')",
   "language": "python",
   "name": "python3"
  },
  "language_info": {
   "codemirror_mode": {
    "name": "ipython",
    "version": 3
   },
   "file_extension": ".py",
   "mimetype": "text/x-python",
   "name": "python",
   "nbconvert_exporter": "python",
   "pygments_lexer": "ipython3",
   "version": "3.10.2"
  },
  "orig_nbformat": 4,
  "vscode": {
   "interpreter": {
    "hash": "e1791ee0b1058438a9e4dd50940b13379ea2066324df602589e5ef71bcea17c7"
   }
  }
 },
 "nbformat": 4,
 "nbformat_minor": 2
}
