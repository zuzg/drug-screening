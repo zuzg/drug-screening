{
 "cells": [
  {
   "cell_type": "code",
   "execution_count": 1,
   "metadata": {},
   "outputs": [],
   "source": [
    "import pathlib\n",
    "import pandas as pd\n",
    "import matplotlib.pyplot as plt\n",
    "import numpy as np\n"
   ]
  },
  {
   "cell_type": "markdown",
   "metadata": {},
   "source": [
    "## Entry Step"
   ]
  },
  {
   "cell_type": "code",
   "execution_count": 2,
   "metadata": {},
   "outputs": [],
   "source": [
    "# input fir file dir\n",
    "ic50_path = pathlib.Path(\"../tmp/\")\n",
    "ic50_filename = \"FIR_file_for_EC50.xlsx\"\n",
    "\n",
    "ic50_df = pd.read_excel(ic50_path / ic50_filename)"
   ]
  },
  {
   "cell_type": "code",
   "execution_count": 3,
   "metadata": {},
   "outputs": [],
   "source": [
    "rename_columns = [\"EOS\", \"CONCENTRATION\", \"VALUE\"]\n",
    "rename_dict = dict(zip(ic50_df.columns, rename_columns))\n",
    "ic50_df.rename(columns=rename_dict, inplace=True)"
   ]
  },
  {
   "cell_type": "code",
   "execution_count": 4,
   "metadata": {},
   "outputs": [],
   "source": [
    "ic50_df.sort_values(by=[\"EOS\", \"CONCENTRATION\"], inplace=True)"
   ]
  },
  {
   "cell_type": "markdown",
   "metadata": {},
   "source": [
    "## DRC Fitting Step"
   ]
  },
  {
   "cell_type": "code",
   "execution_count": 5,
   "metadata": {},
   "outputs": [],
   "source": [
    "LOWER_BOUND = -100\n",
    "\n",
    "inh_valid = ic50_df[ic50_df[\"VALUE\"] >= LOWER_BOUND]\n",
    "\n",
    "# repeated sorting is redundant"
   ]
  },
  {
   "cell_type": "code",
   "execution_count": 6,
   "metadata": {},
   "outputs": [],
   "source": [
    "from scipy.optimize import curve_fit\n",
    "\n",
    "# To determine ec50 or ic50??? - UPDATE: ic50\n",
    "def four_param_logistic(x, lower_limit, upper_limit, ic50, slope):\n",
    "    return upper_limit + (lower_limit - upper_limit) / (1 + (x / ic50) ** slope)\n",
    "\n",
    "# upper branch does not group cmpds?? - UPDATE: it does (implicitly)\n",
    "\n",
    "by_eos = inh_valid.groupby(\"EOS\")\n"
   ]
  },
  {
   "cell_type": "code",
   "execution_count": 7,
   "metadata": {},
   "outputs": [
    {
     "name": "stderr",
     "output_type": "stream",
     "text": [
      "C:\\Users\\sbart\\AppData\\Local\\Temp\\ipykernel_2144\\1514284610.py:5: RuntimeWarning: invalid value encountered in power\n",
      "  return upper_limit + (lower_limit - upper_limit) / (1 + (x / ic50) ** slope)\n"
     ]
    },
    {
     "name": "stdout",
     "output_type": "stream",
     "text": [
      "EOS: EOS101302 - curve_fit failed\n",
      "EOS: EOS2452 - curve_fit failed\n",
      "EOS: EOS60470 - curve_fit failed\n",
      "EOS: EOS84313 - curve_fit failed\n",
      "EOS: EOS98641 - curve_fit failed\n"
     ]
    }
   ],
   "source": [
    "fit_props = [\"lower_limit\", \"upper_limit\", \"ic50\", \"slope\"]\n",
    "concentration_props = [\"min_concentration\", \"max_concentration\"]\n",
    "curve_fit_params = {key: [] for key in [\"EOS\", *fit_props, *concentration_props]}\n",
    "for key, group in by_eos:\n",
    "    by_conc = group.groupby(\"CONCENTRATION\")\n",
    "    values_avg = by_conc[\"VALUE\"].mean()\n",
    "    x = values_avg.index.to_numpy()\n",
    "    y = values_avg.values\n",
    "    try:\n",
    "        params, _ = curve_fit(four_param_logistic, x, y, maxfev=10000)\n",
    "    except RuntimeError:\n",
    "        print(f\"EOS: {key} - curve_fit failed\")\n",
    "        params = [np.nan] * 4\n",
    "\n",
    "    curve_fit_params[\"EOS\"].append(key)\n",
    "    for i, name in enumerate(fit_props):\n",
    "        curve_fit_params[name].append(params[i])\n",
    "\n",
    "    curve_fit_params[\"min_concentration\"].append(x.min())\n",
    "    curve_fit_params[\"max_concentration\"].append(x.max())\n",
    "    \n",
    "\n",
    "curve_fit_df = pd.DataFrame(curve_fit_params)"
   ]
  },
  {
   "cell_type": "code",
   "execution_count": 8,
   "metadata": {},
   "outputs": [],
   "source": [
    "# what is justification for this step? UPDATE = by -1\n",
    "KNIME_SLOPE_MULTIPLIER = -1\n",
    "\n",
    "# TBD: should the negation persist if ACTIVATION/INHIBITION tested?\n",
    "\n",
    "curve_fit_df[\"slope\"] = round(curve_fit_df.slope * KNIME_SLOPE_MULTIPLIER, 2)"
   ]
  },
  {
   "cell_type": "code",
   "execution_count": 9,
   "metadata": {},
   "outputs": [
    {
     "data": {
      "text/html": [
       "<div>\n",
       "<style scoped>\n",
       "    .dataframe tbody tr th:only-of-type {\n",
       "        vertical-align: middle;\n",
       "    }\n",
       "\n",
       "    .dataframe tbody tr th {\n",
       "        vertical-align: top;\n",
       "    }\n",
       "\n",
       "    .dataframe thead th {\n",
       "        text-align: right;\n",
       "    }\n",
       "</style>\n",
       "<table border=\"1\" class=\"dataframe\">\n",
       "  <thead>\n",
       "    <tr style=\"text-align: right;\">\n",
       "      <th></th>\n",
       "      <th>EOS</th>\n",
       "      <th>lower_limit</th>\n",
       "      <th>upper_limit</th>\n",
       "      <th>ic50</th>\n",
       "      <th>slope</th>\n",
       "      <th>min_concentration</th>\n",
       "      <th>max_concentration</th>\n",
       "    </tr>\n",
       "  </thead>\n",
       "  <tbody>\n",
       "    <tr>\n",
       "      <th>0</th>\n",
       "      <td>EOS100028</td>\n",
       "      <td>-11.652444</td>\n",
       "      <td>101.686898</td>\n",
       "      <td>5.073602e-01</td>\n",
       "      <td>-0.87</td>\n",
       "      <td>0.0125</td>\n",
       "      <td>50.0</td>\n",
       "    </tr>\n",
       "    <tr>\n",
       "      <th>1</th>\n",
       "      <td>EOS100057</td>\n",
       "      <td>0.546953</td>\n",
       "      <td>104.079979</td>\n",
       "      <td>2.018330e+00</td>\n",
       "      <td>-0.96</td>\n",
       "      <td>0.0125</td>\n",
       "      <td>50.0</td>\n",
       "    </tr>\n",
       "    <tr>\n",
       "      <th>2</th>\n",
       "      <td>EOS100080</td>\n",
       "      <td>-0.091180</td>\n",
       "      <td>-47.887953</td>\n",
       "      <td>4.980150e+00</td>\n",
       "      <td>-14.64</td>\n",
       "      <td>0.0125</td>\n",
       "      <td>5.0</td>\n",
       "    </tr>\n",
       "    <tr>\n",
       "      <th>3</th>\n",
       "      <td>EOS100134</td>\n",
       "      <td>-2.483754</td>\n",
       "      <td>99.885443</td>\n",
       "      <td>8.876217e-01</td>\n",
       "      <td>-1.23</td>\n",
       "      <td>0.0125</td>\n",
       "      <td>50.0</td>\n",
       "    </tr>\n",
       "    <tr>\n",
       "      <th>4</th>\n",
       "      <td>EOS100147</td>\n",
       "      <td>-4.950270</td>\n",
       "      <td>99.465109</td>\n",
       "      <td>3.961385e-01</td>\n",
       "      <td>-1.16</td>\n",
       "      <td>0.0125</td>\n",
       "      <td>50.0</td>\n",
       "    </tr>\n",
       "    <tr>\n",
       "      <th>...</th>\n",
       "      <td>...</td>\n",
       "      <td>...</td>\n",
       "      <td>...</td>\n",
       "      <td>...</td>\n",
       "      <td>...</td>\n",
       "      <td>...</td>\n",
       "      <td>...</td>\n",
       "    </tr>\n",
       "    <tr>\n",
       "      <th>504</th>\n",
       "      <td>EOS98635</td>\n",
       "      <td>-14.101436</td>\n",
       "      <td>100.659103</td>\n",
       "      <td>3.775230e-01</td>\n",
       "      <td>-0.90</td>\n",
       "      <td>0.0125</td>\n",
       "      <td>50.0</td>\n",
       "    </tr>\n",
       "    <tr>\n",
       "      <th>505</th>\n",
       "      <td>EOS98640</td>\n",
       "      <td>-152.610628</td>\n",
       "      <td>99.999461</td>\n",
       "      <td>3.282508e-03</td>\n",
       "      <td>-0.96</td>\n",
       "      <td>0.0125</td>\n",
       "      <td>50.0</td>\n",
       "    </tr>\n",
       "    <tr>\n",
       "      <th>506</th>\n",
       "      <td>EOS98641</td>\n",
       "      <td>NaN</td>\n",
       "      <td>NaN</td>\n",
       "      <td>NaN</td>\n",
       "      <td>NaN</td>\n",
       "      <td>0.0125</td>\n",
       "      <td>50.0</td>\n",
       "    </tr>\n",
       "    <tr>\n",
       "      <th>507</th>\n",
       "      <td>EOS98642</td>\n",
       "      <td>-640225.681281</td>\n",
       "      <td>100.019671</td>\n",
       "      <td>5.762685e-08</td>\n",
       "      <td>-0.93</td>\n",
       "      <td>0.0125</td>\n",
       "      <td>50.0</td>\n",
       "    </tr>\n",
       "    <tr>\n",
       "      <th>508</th>\n",
       "      <td>EOS990</td>\n",
       "      <td>2.809514</td>\n",
       "      <td>100.019013</td>\n",
       "      <td>2.710266e-02</td>\n",
       "      <td>-1.08</td>\n",
       "      <td>0.0125</td>\n",
       "      <td>50.0</td>\n",
       "    </tr>\n",
       "  </tbody>\n",
       "</table>\n",
       "<p>509 rows × 7 columns</p>\n",
       "</div>"
      ],
      "text/plain": [
       "           EOS    lower_limit  upper_limit          ic50  slope   \n",
       "0    EOS100028     -11.652444   101.686898  5.073602e-01  -0.87  \\\n",
       "1    EOS100057       0.546953   104.079979  2.018330e+00  -0.96   \n",
       "2    EOS100080      -0.091180   -47.887953  4.980150e+00 -14.64   \n",
       "3    EOS100134      -2.483754    99.885443  8.876217e-01  -1.23   \n",
       "4    EOS100147      -4.950270    99.465109  3.961385e-01  -1.16   \n",
       "..         ...            ...          ...           ...    ...   \n",
       "504   EOS98635     -14.101436   100.659103  3.775230e-01  -0.90   \n",
       "505   EOS98640    -152.610628    99.999461  3.282508e-03  -0.96   \n",
       "506   EOS98641            NaN          NaN           NaN    NaN   \n",
       "507   EOS98642 -640225.681281   100.019671  5.762685e-08  -0.93   \n",
       "508     EOS990       2.809514   100.019013  2.710266e-02  -1.08   \n",
       "\n",
       "     min_concentration  max_concentration  \n",
       "0               0.0125               50.0  \n",
       "1               0.0125               50.0  \n",
       "2               0.0125                5.0  \n",
       "3               0.0125               50.0  \n",
       "4               0.0125               50.0  \n",
       "..                 ...                ...  \n",
       "504             0.0125               50.0  \n",
       "505             0.0125               50.0  \n",
       "506             0.0125               50.0  \n",
       "507             0.0125               50.0  \n",
       "508             0.0125               50.0  \n",
       "\n",
       "[509 rows x 7 columns]"
      ]
     },
     "execution_count": 9,
     "metadata": {},
     "output_type": "execute_result"
    }
   ],
   "source": [
    "curve_fit_df"
   ]
  },
  {
   "cell_type": "code",
   "execution_count": 10,
   "metadata": {},
   "outputs": [],
   "source": [
    "# initial operator\n",
    "curve_fit_df[\"operator\"] = np.where(\n",
    "    curve_fit_df[\"ic50\"] > curve_fit_df[\"max_concentration\"], '>',\n",
    "    np.where(\n",
    "        curve_fit_df[\"ic50\"] < curve_fit_df[\"min_concentration\"], '<', '='\n",
    "    )\n",
    ")"
   ]
  },
  {
   "cell_type": "code",
   "execution_count": 11,
   "metadata": {},
   "outputs": [],
   "source": [
    "curve_fit_df_indexed_by_eos = curve_fit_df.set_index(\"EOS\")"
   ]
  },
  {
   "cell_type": "markdown",
   "metadata": {},
   "source": [
    "## Activity Determination"
   ]
  },
  {
   "cell_type": "code",
   "execution_count": 12,
   "metadata": {},
   "outputs": [],
   "source": [
    "concentration_grouped_df = (\n",
    "    ic50_df\n",
    "    .groupby([\"EOS\", \"CONCENTRATION\"])\n",
    "    .VALUE\n",
    "    .mean()\n",
    "    .reset_index()\n",
    "    .groupby(\"EOS\")\n",
    "    .VALUE\n",
    "    .aggregate([\"max\", \"min\", \"mean\"])\n",
    "    .reset_index()\n",
    ")"
   ]
  },
  {
   "cell_type": "code",
   "execution_count": 13,
   "metadata": {},
   "outputs": [],
   "source": [
    "# sorter branch groupped by CMPD ID and concentration, DRC only by CMPD ID\n",
    "\n",
    "# should be groupped by CMPD ID only\n",
    "\n",
    "activation_df = (\n",
    "    concentration_grouped_df\n",
    "    .merge(\n",
    "        curve_fit_df_indexed_by_eos, \n",
    "        how=\"inner\", \n",
    "        left_on=\"EOS\", \n",
    "        right_on=\"EOS\"\n",
    "    )\n",
    "    .rename(\n",
    "        columns={\n",
    "            \"min\": \"min_value\",\n",
    "            \"max\": \"max_value\",\n",
    "            \"mean\": \"mean_value\"\n",
    "        }\n",
    "    )\n",
    ")"
   ]
  },
  {
   "cell_type": "code",
   "execution_count": 14,
   "metadata": {},
   "outputs": [
    {
     "data": {
      "text/html": [
       "<div>\n",
       "<style scoped>\n",
       "    .dataframe tbody tr th:only-of-type {\n",
       "        vertical-align: middle;\n",
       "    }\n",
       "\n",
       "    .dataframe tbody tr th {\n",
       "        vertical-align: top;\n",
       "    }\n",
       "\n",
       "    .dataframe thead th {\n",
       "        text-align: right;\n",
       "    }\n",
       "</style>\n",
       "<table border=\"1\" class=\"dataframe\">\n",
       "  <thead>\n",
       "    <tr style=\"text-align: right;\">\n",
       "      <th></th>\n",
       "      <th>EOS</th>\n",
       "      <th>max_value</th>\n",
       "      <th>min_value</th>\n",
       "      <th>mean_value</th>\n",
       "      <th>lower_limit</th>\n",
       "      <th>upper_limit</th>\n",
       "      <th>ic50</th>\n",
       "      <th>slope</th>\n",
       "      <th>min_concentration</th>\n",
       "      <th>max_concentration</th>\n",
       "      <th>operator</th>\n",
       "    </tr>\n",
       "  </thead>\n",
       "  <tbody>\n",
       "    <tr>\n",
       "      <th>0</th>\n",
       "      <td>EOS100028</td>\n",
       "      <td>98.147236</td>\n",
       "      <td>-7.986852</td>\n",
       "      <td>51.045043</td>\n",
       "      <td>-11.652444</td>\n",
       "      <td>101.686898</td>\n",
       "      <td>0.507360</td>\n",
       "      <td>-0.87</td>\n",
       "      <td>0.0125</td>\n",
       "      <td>50.0</td>\n",
       "      <td>=</td>\n",
       "    </tr>\n",
       "    <tr>\n",
       "      <th>1</th>\n",
       "      <td>EOS100057</td>\n",
       "      <td>97.939306</td>\n",
       "      <td>1.522787</td>\n",
       "      <td>42.664352</td>\n",
       "      <td>0.546953</td>\n",
       "      <td>104.079979</td>\n",
       "      <td>2.018330</td>\n",
       "      <td>-0.96</td>\n",
       "      <td>0.0125</td>\n",
       "      <td>50.0</td>\n",
       "      <td>=</td>\n",
       "    </tr>\n",
       "    <tr>\n",
       "      <th>2</th>\n",
       "      <td>EOS100080</td>\n",
       "      <td>5.125264</td>\n",
       "      <td>-176.911844</td>\n",
       "      <td>-43.892611</td>\n",
       "      <td>-0.091180</td>\n",
       "      <td>-47.887953</td>\n",
       "      <td>4.980150</td>\n",
       "      <td>-14.64</td>\n",
       "      <td>0.0125</td>\n",
       "      <td>5.0</td>\n",
       "      <td>=</td>\n",
       "    </tr>\n",
       "    <tr>\n",
       "      <th>3</th>\n",
       "      <td>EOS100134</td>\n",
       "      <td>100.345955</td>\n",
       "      <td>-2.666537</td>\n",
       "      <td>47.895665</td>\n",
       "      <td>-2.483754</td>\n",
       "      <td>99.885443</td>\n",
       "      <td>0.887622</td>\n",
       "      <td>-1.23</td>\n",
       "      <td>0.0125</td>\n",
       "      <td>50.0</td>\n",
       "      <td>=</td>\n",
       "    </tr>\n",
       "    <tr>\n",
       "      <th>4</th>\n",
       "      <td>EOS100147</td>\n",
       "      <td>100.171501</td>\n",
       "      <td>-1.553326</td>\n",
       "      <td>55.804997</td>\n",
       "      <td>-4.950270</td>\n",
       "      <td>99.465109</td>\n",
       "      <td>0.396139</td>\n",
       "      <td>-1.16</td>\n",
       "      <td>0.0125</td>\n",
       "      <td>50.0</td>\n",
       "      <td>=</td>\n",
       "    </tr>\n",
       "  </tbody>\n",
       "</table>\n",
       "</div>"
      ],
      "text/plain": [
       "         EOS   max_value   min_value  mean_value  lower_limit  upper_limit   \n",
       "0  EOS100028   98.147236   -7.986852   51.045043   -11.652444   101.686898  \\\n",
       "1  EOS100057   97.939306    1.522787   42.664352     0.546953   104.079979   \n",
       "2  EOS100080    5.125264 -176.911844  -43.892611    -0.091180   -47.887953   \n",
       "3  EOS100134  100.345955   -2.666537   47.895665    -2.483754    99.885443   \n",
       "4  EOS100147  100.171501   -1.553326   55.804997    -4.950270    99.465109   \n",
       "\n",
       "       ic50  slope  min_concentration  max_concentration operator  \n",
       "0  0.507360  -0.87             0.0125               50.0        =  \n",
       "1  2.018330  -0.96             0.0125               50.0        =  \n",
       "2  4.980150 -14.64             0.0125                5.0        =  \n",
       "3  0.887622  -1.23             0.0125               50.0        =  \n",
       "4  0.396139  -1.16             0.0125               50.0        =  "
      ]
     },
     "execution_count": 14,
     "metadata": {},
     "output_type": "execute_result"
    }
   ],
   "source": [
    "activation_df.head()"
   ]
  },
  {
   "cell_type": "code",
   "execution_count": 16,
   "metadata": {},
   "outputs": [],
   "source": [
    "MAX_MIN_VALUE_THRESHOLD = 75\n",
    "MIN_MAX_VALUE_THRESHOLD = 30\n",
    "\n",
    "# adjust operator step\n",
    "activation_df[\"all_conc_active\"] = activation_df[\"min_value\"] > MAX_MIN_VALUE_THRESHOLD\n",
    "activation_df[\"all_conc_inactive\"] = activation_df[\"max_value\"] < MIN_MAX_VALUE_THRESHOLD\n",
    "\n",
    "activation_df[\"operator\"] = np.where(\n",
    "    activation_df.all_conc_active,\n",
    "    \"<\",\n",
    "    np.where(\n",
    "        activation_df.all_conc_inactive,\n",
    "        \">\",\n",
    "        activation_df.operator\n",
    "    )\n",
    ")"
   ]
  },
  {
   "cell_type": "code",
   "execution_count": 17,
   "metadata": {},
   "outputs": [],
   "source": [
    "# un-adjusted slope used\n",
    "\n",
    "activation_df[\"is_reverse_dose\"] = activation_df.slope < 0"
   ]
  },
  {
   "cell_type": "code",
   "execution_count": 18,
   "metadata": {},
   "outputs": [],
   "source": [
    "ACTIVITY_THRESHOLD = 10\n",
    "\n",
    "activation_df[\"is_active\"] = activation_df.ic50 < ACTIVITY_THRESHOLD"
   ]
  },
  {
   "cell_type": "code",
   "execution_count": 19,
   "metadata": {},
   "outputs": [],
   "source": [
    "# what if unknown? UPDATE: as inferred from file - should be inconclusive\n",
    "\n",
    "activation_df[\"activity_final\"] = np.where(\n",
    "    activation_df.operator != \"=\",\n",
    "    \"inconclusive\",\n",
    "    np.where(\n",
    "        (activation_df.ic50 >= 10) | (activation_df.upper_limit <= 30),\n",
    "        \"inactive\",\n",
    "        \"active\"\n",
    "        )\n",
    "    )\n"
   ]
  },
  {
   "cell_type": "code",
   "execution_count": 20,
   "metadata": {},
   "outputs": [],
   "source": [
    "activation_df[\"is_partially_active\"] = (activation_df.upper_limit > 30) & (activation_df.upper_limit < 80) & (activation_df.ic50 < 10)"
   ]
  },
  {
   "cell_type": "code",
   "execution_count": 21,
   "metadata": {},
   "outputs": [],
   "source": [
    "activation_df.to_excel(\"active_prototype.xlsx\", index=False)"
   ]
  }
 ],
 "metadata": {
  "kernelspec": {
   "display_name": "drug-screening",
   "language": "python",
   "name": "python3"
  },
  "language_info": {
   "codemirror_mode": {
    "name": "ipython",
    "version": 3
   },
   "file_extension": ".py",
   "mimetype": "text/x-python",
   "name": "python",
   "nbconvert_exporter": "python",
   "pygments_lexer": "ipython3",
   "version": "3.10.6"
  }
 },
 "nbformat": 4,
 "nbformat_minor": 2
}
