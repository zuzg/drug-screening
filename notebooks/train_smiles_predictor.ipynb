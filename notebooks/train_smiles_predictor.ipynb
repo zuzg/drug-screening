{
 "cells": [
  {
   "attachments": {},
   "cell_type": "markdown",
   "metadata": {},
   "source": [
    "# Toxicity prediction by SMILES"
   ]
  },
  {
   "cell_type": "code",
   "execution_count": 23,
   "metadata": {},
   "outputs": [],
   "source": [
    "import matplotlib.pyplot as plt\n",
    "import numpy as np\n",
    "import pandas as pd\n",
    "import resreg\n",
    "import smogn\n",
    "import xgboost\n",
    "from deepchem import deepchem\n",
    "from sklearn.metrics import mean_absolute_error, mean_squared_error\n",
    "from tdc.single_pred import Tox"
   ]
  },
  {
   "attachments": {},
   "cell_type": "markdown",
   "metadata": {},
   "source": [
    "## Data\n",
    "### Download dataset"
   ]
  },
  {
   "cell_type": "code",
   "execution_count": 15,
   "metadata": {},
   "outputs": [
    {
     "name": "stderr",
     "output_type": "stream",
     "text": [
      "Found local copy...\n",
      "Loading...\n",
      "Done!\n"
     ]
    },
    {
     "name": "stdout",
     "output_type": "stream",
     "text": [
      "train: 5170, val: 738, test: 1477\n"
     ]
    },
    {
     "data": {
      "text/html": [
       "<div>\n",
       "<style scoped>\n",
       "    .dataframe tbody tr th:only-of-type {\n",
       "        vertical-align: middle;\n",
       "    }\n",
       "\n",
       "    .dataframe tbody tr th {\n",
       "        vertical-align: top;\n",
       "    }\n",
       "\n",
       "    .dataframe thead th {\n",
       "        text-align: right;\n",
       "    }\n",
       "</style>\n",
       "<table border=\"1\" class=\"dataframe\">\n",
       "  <thead>\n",
       "    <tr style=\"text-align: right;\">\n",
       "      <th></th>\n",
       "      <th>Drug_ID</th>\n",
       "      <th>Drug</th>\n",
       "      <th>Y</th>\n",
       "    </tr>\n",
       "  </thead>\n",
       "  <tbody>\n",
       "    <tr>\n",
       "      <th>0</th>\n",
       "      <td>Methane, tribromo-</td>\n",
       "      <td>BrC(Br)Br</td>\n",
       "      <td>2.343</td>\n",
       "    </tr>\n",
       "    <tr>\n",
       "      <th>1</th>\n",
       "      <td>Bromoethene (9CI)</td>\n",
       "      <td>C=CBr</td>\n",
       "      <td>2.330</td>\n",
       "    </tr>\n",
       "    <tr>\n",
       "      <th>2</th>\n",
       "      <td>1,1'-Biphenyl, hexabromo-</td>\n",
       "      <td>Brc1ccc(-c2ccc(Br)c(Br)c2Br)c(Br)c1Br</td>\n",
       "      <td>1.465</td>\n",
       "    </tr>\n",
       "    <tr>\n",
       "      <th>3</th>\n",
       "      <td>Isothiocyanic acid, p-bromophenyl ester</td>\n",
       "      <td>S=C=Nc1ccc(Br)cc1</td>\n",
       "      <td>2.729</td>\n",
       "    </tr>\n",
       "    <tr>\n",
       "      <th>4</th>\n",
       "      <td>Benzene, bromo-</td>\n",
       "      <td>Brc1ccccc1</td>\n",
       "      <td>1.765</td>\n",
       "    </tr>\n",
       "  </tbody>\n",
       "</table>\n",
       "</div>"
      ],
      "text/plain": [
       "                                   Drug_ID  \\\n",
       "0                       Methane, tribromo-   \n",
       "1                        Bromoethene (9CI)   \n",
       "2                1,1'-Biphenyl, hexabromo-   \n",
       "3  Isothiocyanic acid, p-bromophenyl ester   \n",
       "4                          Benzene, bromo-   \n",
       "\n",
       "                                    Drug      Y  \n",
       "0                              BrC(Br)Br  2.343  \n",
       "1                                  C=CBr  2.330  \n",
       "2  Brc1ccc(-c2ccc(Br)c(Br)c2Br)c(Br)c1Br  1.465  \n",
       "3                      S=C=Nc1ccc(Br)cc1  2.729  \n",
       "4                             Brc1ccccc1  1.765  "
      ]
     },
     "execution_count": 15,
     "metadata": {},
     "output_type": "execute_result"
    }
   ],
   "source": [
    "data = Tox(name=\"LD50_Zhu\")\n",
    "split = data.get_split()\n",
    "train_raw, test_raw, val_raw = split[\"train\"], split[\"test\"], split[\"valid\"]\n",
    "print(f\"train: {len(train_raw)}, val: {len(val_raw)}, test: {len(test_raw)}\")\n",
    "train_raw.head()"
   ]
  },
  {
   "cell_type": "code",
   "execution_count": 69,
   "metadata": {},
   "outputs": [
    {
     "data": {
      "text/plain": [
       "<Axes: >"
      ]
     },
     "execution_count": 69,
     "metadata": {},
     "output_type": "execute_result"
    },
    {
     "data": {
      "image/png": "[encoded data removed]",
      "text/plain": [
       "<Figure size 640x480 with 1 Axes>"
      ]
     },
     "metadata": {},
     "output_type": "display_data"
    }
   ],
   "source": [
    "train_raw.Y.hist(bins=20) # imbalance!"
   ]
  },
  {
   "attachments": {},
   "cell_type": "markdown",
   "metadata": {},
   "source": [
    "### Prepare dataset"
   ]
  },
  {
   "cell_type": "code",
   "execution_count": 26,
   "metadata": {},
   "outputs": [],
   "source": [
    "rdkit = deepchem.feat.RDKitDescriptors()\n",
    "X_train = rdkit.featurize(train_raw.Drug.to_list())\n",
    "X_test = rdkit.featurize(test_raw.Drug.to_list())\n",
    "X_val = rdkit.featurize(val_raw.Drug.to_list())\n",
    "\n",
    "np.save(open(\"data/features/rdkit_train.npy\", \"wb\"), X_train)\n",
    "np.save(open(\"data/features/rdkit_test.npy\", \"wb\"), X_test)\n",
    "np.save(open(\"data/features/rdkit_val.npy\", \"wb\"), X_val)"
   ]
  },
  {
   "cell_type": "code",
   "execution_count": 27,
   "metadata": {},
   "outputs": [],
   "source": [
    "y_train, y_test = train_raw.Y.to_list(), test_raw.Y.to_list()"
   ]
  },
  {
   "cell_type": "code",
   "execution_count": 130,
   "metadata": {},
   "outputs": [],
   "source": [
    "relevance = resreg.sigmoid_relevance(y_train, cl=1.25, ch=3.5)\n",
    "X_train_s, y_train_s = resreg.smoter(X_train, y_train, relevance=relevance)"
   ]
  },
  {
   "cell_type": "code",
   "execution_count": 131,
   "metadata": {},
   "outputs": [
    {
     "data": {
      "image/png": "[encoded data removed]",
      "text/plain": [
       "<Figure size 640x480 with 1 Axes>"
      ]
     },
     "metadata": {},
     "output_type": "display_data"
    }
   ],
   "source": [
    "plt.hist(y_train_s)\n",
    "plt.show()"
   ]
  },
  {
   "cell_type": "code",
   "execution_count": 31,
   "metadata": {},
   "outputs": [],
   "source": [
    "val_set = list(zip(X_val, val_raw.Y.to_list()))"
   ]
  },
  {
   "attachments": {},
   "cell_type": "markdown",
   "metadata": {},
   "source": [
    "## Model"
   ]
  },
  {
   "attachments": {},
   "cell_type": "markdown",
   "metadata": {},
   "source": [
    "### Training"
   ]
  },
  {
   "cell_type": "code",
   "execution_count": 108,
   "metadata": {},
   "outputs": [],
   "source": [
    "model = xgboost.XGBRegressor(n_estimators=100, max_depth=6, tree_method=\"hist\", learning_rate=10e-2)"
   ]
  },
  {
   "cell_type": "code",
   "execution_count": 109,
   "metadata": {},
   "outputs": [],
   "source": [
    "_ = model.fit(X_train, y_train, eval_set=[(X_train_s, y_train_s), (X_val, val_raw.Y.to_list())], eval_metric=\"mae\", verbose=False)"
   ]
  },
  {
   "attachments": {},
   "cell_type": "markdown",
   "metadata": {},
   "source": [
    "### R2 score"
   ]
  },
  {
   "cell_type": "code",
   "execution_count": 110,
   "metadata": {},
   "outputs": [
    {
     "name": "stdout",
     "output_type": "stream",
     "text": [
      "0.864950033945701 0.6078692418290459\n"
     ]
    }
   ],
   "source": [
    "train_score = model.score(X_train, y_train)\n",
    "test_score = model.score(X_test, y_test)\n",
    "print(train_score, test_score)"
   ]
  },
  {
   "attachments": {},
   "cell_type": "markdown",
   "metadata": {},
   "source": [
    "### AUC plot"
   ]
  },
  {
   "cell_type": "code",
   "execution_count": 111,
   "metadata": {},
   "outputs": [
    {
     "data": {
      "image/png": "[encoded data removed]",
      "text/plain": [
       "<Figure size 640x480 with 1 Axes>"
      ]
     },
     "metadata": {},
     "output_type": "display_data"
    }
   ],
   "source": [
    "results = model.evals_result()\n",
    "epochs = len(results[\"validation_0\"][\"mae\"])\n",
    "x_axis = range(0, epochs)\n",
    "\n",
    "fig, ax = plt.subplots()\n",
    "ax.plot(x_axis, results[\"validation_0\"][\"mae\"], label=\"Train\")\n",
    "ax.plot(x_axis, results[\"validation_1\"][\"mae\"], label=\"Test\")\n",
    "ax.legend()\n",
    "plt.ylabel(\"AUC - MAE\")\n",
    "plt.show()"
   ]
  },
  {
   "attachments": {},
   "cell_type": "markdown",
   "metadata": {},
   "source": [
    "### Test MAE"
   ]
  },
  {
   "cell_type": "code",
   "execution_count": 112,
   "metadata": {},
   "outputs": [
    {
     "name": "stdout",
     "output_type": "stream",
     "text": [
      "mae: 0.4413351323561, mse: 0.35033283099889195\n"
     ]
    }
   ],
   "source": [
    "y_pred = model.predict(X_test)\n",
    "mae = mean_absolute_error(y_test, y_pred)\n",
    "mse = mean_squared_error(y_test, y_pred)\n",
    "print(f\"mae: {mae}, mse: {mse}\")"
   ]
  },
  {
   "attachments": {},
   "cell_type": "markdown",
   "metadata": {},
   "source": [
    "### Saving and loading model"
   ]
  },
  {
   "cell_type": "code",
   "execution_count": 113,
   "metadata": {},
   "outputs": [],
   "source": [
    "model.save_model(\"data/model.json\")"
   ]
  },
  {
   "cell_type": "code",
   "execution_count": 38,
   "metadata": {},
   "outputs": [],
   "source": [
    "model2 = xgboost.XGBRegressor()\n",
    "model2.load_model(\"data/model.json\")"
   ]
  },
  {
   "attachments": {},
   "cell_type": "markdown",
   "metadata": {},
   "source": [
    "## Test on our data"
   ]
  },
  {
   "cell_type": "code",
   "execution_count": 39,
   "metadata": {},
   "outputs": [
    {
     "data": {
      "text/html": [
       "<div>\n",
       "<style scoped>\n",
       "    .dataframe tbody tr th:only-of-type {\n",
       "        vertical-align: middle;\n",
       "    }\n",
       "\n",
       "    .dataframe tbody tr th {\n",
       "        vertical-align: top;\n",
       "    }\n",
       "\n",
       "    .dataframe thead th {\n",
       "        text-align: right;\n",
       "    }\n",
       "</style>\n",
       "<table border=\"1\" class=\"dataframe\">\n",
       "  <thead>\n",
       "    <tr style=\"text-align: right;\">\n",
       "      <th></th>\n",
       "      <th>eos</th>\n",
       "      <th>smiles</th>\n",
       "      <th>inchi</th>\n",
       "      <th>inchikey</th>\n",
       "      <th>formula</th>\n",
       "      <th>mw</th>\n",
       "      <th>hba</th>\n",
       "      <th>hbd</th>\n",
       "      <th>tpsa</th>\n",
       "      <th>rb</th>\n",
       "      <th>fp3</th>\n",
       "      <th>logp</th>\n",
       "      <th>violates_ro5</th>\n",
       "      <th>pubchem</th>\n",
       "      <th>chembl</th>\n",
       "      <th>zinc</th>\n",
       "    </tr>\n",
       "  </thead>\n",
       "  <tbody>\n",
       "    <tr>\n",
       "      <th>0</th>\n",
       "      <td>EOS1</td>\n",
       "      <td>COc1ccc(N2C(=O)NC(CC(=O)N3CCC(c4ccccc4)CC3)C2=...</td>\n",
       "      <td>InChI=1S/C23H25N3O4/c1-30-19-9-7-18(8-10-19)26...</td>\n",
       "      <td>BDSKOWUCRDTSBA-UHFFFAOYSA-N</td>\n",
       "      <td>C23H25N3O4</td>\n",
       "      <td>407.470001</td>\n",
       "      <td>7</td>\n",
       "      <td>1</td>\n",
       "      <td>78.949997</td>\n",
       "      <td>5</td>\n",
       "      <td>0.347826</td>\n",
       "      <td>2.91630</td>\n",
       "      <td>0</td>\n",
       "      <td>CID91820963</td>\n",
       "      <td>NaN</td>\n",
       "      <td>NaN</td>\n",
       "    </tr>\n",
       "    <tr>\n",
       "      <th>1</th>\n",
       "      <td>EOS2</td>\n",
       "      <td>COc1cc2ncn(CCC(=O)NCc3cccc(F)c3)c(=O)c2cc1OC</td>\n",
       "      <td>InChI=1S/C20H20FN3O4/c1-27-17-9-15-16(10-18(17...</td>\n",
       "      <td>BBHNGOSSYMSMBL-UHFFFAOYSA-N</td>\n",
       "      <td>C20H20FN3O4</td>\n",
       "      <td>385.394989</td>\n",
       "      <td>7</td>\n",
       "      <td>1</td>\n",
       "      <td>82.449997</td>\n",
       "      <td>7</td>\n",
       "      <td>0.250000</td>\n",
       "      <td>2.25930</td>\n",
       "      <td>0</td>\n",
       "      <td>CID39351211</td>\n",
       "      <td>NaN</td>\n",
       "      <td>ZINC000032103955</td>\n",
       "    </tr>\n",
       "    <tr>\n",
       "      <th>2</th>\n",
       "      <td>EOS3</td>\n",
       "      <td>O=C(C1CCCCC12OCCO2)N1CCOC(c2ccccc2)C1</td>\n",
       "      <td>InChI=1S/C19H25NO4/c21-18(16-8-4-5-9-19(16)23-...</td>\n",
       "      <td>FDNIQBQHPFKADZ-UHFFFAOYSA-N</td>\n",
       "      <td>C19H25NO4</td>\n",
       "      <td>331.411987</td>\n",
       "      <td>5</td>\n",
       "      <td>0</td>\n",
       "      <td>48.000000</td>\n",
       "      <td>2</td>\n",
       "      <td>0.631579</td>\n",
       "      <td>2.51980</td>\n",
       "      <td>0</td>\n",
       "      <td>CID118986097</td>\n",
       "      <td>NaN</td>\n",
       "      <td>NaN</td>\n",
       "    </tr>\n",
       "    <tr>\n",
       "      <th>3</th>\n",
       "      <td>EOS4</td>\n",
       "      <td>O=C(CCCC(=O)N1CCOC(c2ccccc2)C1)N1CCOC(c2ccccc2)C1</td>\n",
       "      <td>InChI=1S/C25H30N2O4/c28-24(26-14-16-30-22(18-2...</td>\n",
       "      <td>ACLWFALTINVVJH-UHFFFAOYSA-N</td>\n",
       "      <td>C25H30N2O4</td>\n",
       "      <td>422.524994</td>\n",
       "      <td>6</td>\n",
       "      <td>0</td>\n",
       "      <td>59.080002</td>\n",
       "      <td>6</td>\n",
       "      <td>0.440000</td>\n",
       "      <td>3.35690</td>\n",
       "      <td>0</td>\n",
       "      <td>CID118986099</td>\n",
       "      <td>NaN</td>\n",
       "      <td>NaN</td>\n",
       "    </tr>\n",
       "    <tr>\n",
       "      <th>4</th>\n",
       "      <td>EOS5</td>\n",
       "      <td>CC[C@@H](C)[C@@H](CO)NC(=O)Cc1c(C)c2ccc(O)cc2o...</td>\n",
       "      <td>InChI=1S/C18H23NO5/c1-4-10(2)15(9-20)19-17(22)...</td>\n",
       "      <td>WSIYPOIJJLVUDP-MEBBXXQBSA-N</td>\n",
       "      <td>C18H23NO5</td>\n",
       "      <td>333.384003</td>\n",
       "      <td>6</td>\n",
       "      <td>3</td>\n",
       "      <td>99.769997</td>\n",
       "      <td>6</td>\n",
       "      <td>0.444444</td>\n",
       "      <td>1.87272</td>\n",
       "      <td>0</td>\n",
       "      <td>CID91637070</td>\n",
       "      <td>NaN</td>\n",
       "      <td>ZINC000217689925</td>\n",
       "    </tr>\n",
       "  </tbody>\n",
       "</table>\n",
       "</div>"
      ],
      "text/plain": [
       "    eos                                             smiles  \\\n",
       "0  EOS1  COc1ccc(N2C(=O)NC(CC(=O)N3CCC(c4ccccc4)CC3)C2=...   \n",
       "1  EOS2       COc1cc2ncn(CCC(=O)NCc3cccc(F)c3)c(=O)c2cc1OC   \n",
       "2  EOS3              O=C(C1CCCCC12OCCO2)N1CCOC(c2ccccc2)C1   \n",
       "3  EOS4  O=C(CCCC(=O)N1CCOC(c2ccccc2)C1)N1CCOC(c2ccccc2)C1   \n",
       "4  EOS5  CC[C@@H](C)[C@@H](CO)NC(=O)Cc1c(C)c2ccc(O)cc2o...   \n",
       "\n",
       "                                               inchi  \\\n",
       "0  InChI=1S/C23H25N3O4/c1-30-19-9-7-18(8-10-19)26...   \n",
       "1  InChI=1S/C20H20FN3O4/c1-27-17-9-15-16(10-18(17...   \n",
       "2  InChI=1S/C19H25NO4/c21-18(16-8-4-5-9-19(16)23-...   \n",
       "3  InChI=1S/C25H30N2O4/c28-24(26-14-16-30-22(18-2...   \n",
       "4  InChI=1S/C18H23NO5/c1-4-10(2)15(9-20)19-17(22)...   \n",
       "\n",
       "                      inchikey      formula          mw  hba  hbd       tpsa  \\\n",
       "0  BDSKOWUCRDTSBA-UHFFFAOYSA-N   C23H25N3O4  407.470001    7    1  78.949997   \n",
       "1  BBHNGOSSYMSMBL-UHFFFAOYSA-N  C20H20FN3O4  385.394989    7    1  82.449997   \n",
       "2  FDNIQBQHPFKADZ-UHFFFAOYSA-N    C19H25NO4  331.411987    5    0  48.000000   \n",
       "3  ACLWFALTINVVJH-UHFFFAOYSA-N   C25H30N2O4  422.524994    6    0  59.080002   \n",
       "4  WSIYPOIJJLVUDP-MEBBXXQBSA-N    C18H23NO5  333.384003    6    3  99.769997   \n",
       "\n",
       "   rb       fp3     logp  violates_ro5       pubchem chembl              zinc  \n",
       "0   5  0.347826  2.91630             0   CID91820963    NaN               NaN  \n",
       "1   7  0.250000  2.25930             0   CID39351211    NaN  ZINC000032103955  \n",
       "2   2  0.631579  2.51980             0  CID118986097    NaN               NaN  \n",
       "3   6  0.440000  3.35690             0  CID118986099    NaN               NaN  \n",
       "4   6  0.444444  1.87272             0   CID91637070    NaN  ZINC000217689925  "
      ]
     },
     "execution_count": 39,
     "metadata": {},
     "output_type": "execute_result"
    }
   ],
   "source": [
    "ecbd = pd.read_excel(\"data/ecbd_all.xlsx\")\n",
    "ecbd.head()"
   ]
  },
  {
   "cell_type": "code",
   "execution_count": 40,
   "metadata": {},
   "outputs": [
    {
     "data": {
      "text/html": [
       "<div>\n",
       "<style scoped>\n",
       "    .dataframe tbody tr th:only-of-type {\n",
       "        vertical-align: middle;\n",
       "    }\n",
       "\n",
       "    .dataframe tbody tr th {\n",
       "        vertical-align: top;\n",
       "    }\n",
       "\n",
       "    .dataframe thead th {\n",
       "        text-align: right;\n",
       "    }\n",
       "</style>\n",
       "<table border=\"1\" class=\"dataframe\">\n",
       "  <thead>\n",
       "    <tr style=\"text-align: right;\">\n",
       "      <th></th>\n",
       "      <th>EOS</th>\n",
       "      <th>Concentration (uM)</th>\n",
       "      <th>Inhibition (%)</th>\n",
       "    </tr>\n",
       "  </thead>\n",
       "  <tbody>\n",
       "    <tr>\n",
       "      <th>0</th>\n",
       "      <td>EOS100028</td>\n",
       "      <td>50.00</td>\n",
       "      <td>98.004103</td>\n",
       "    </tr>\n",
       "    <tr>\n",
       "      <th>1</th>\n",
       "      <td>EOS100028</td>\n",
       "      <td>50.00</td>\n",
       "      <td>98.290370</td>\n",
       "    </tr>\n",
       "    <tr>\n",
       "      <th>2</th>\n",
       "      <td>EOS100028</td>\n",
       "      <td>16.25</td>\n",
       "      <td>96.909992</td>\n",
       "    </tr>\n",
       "    <tr>\n",
       "      <th>3</th>\n",
       "      <td>EOS100028</td>\n",
       "      <td>16.25</td>\n",
       "      <td>97.079382</td>\n",
       "    </tr>\n",
       "    <tr>\n",
       "      <th>4</th>\n",
       "      <td>EOS100028</td>\n",
       "      <td>5.00</td>\n",
       "      <td>89.661510</td>\n",
       "    </tr>\n",
       "  </tbody>\n",
       "</table>\n",
       "</div>"
      ],
      "text/plain": [
       "         EOS  Concentration (uM)  Inhibition (%)\n",
       "0  EOS100028               50.00       98.004103\n",
       "1  EOS100028               50.00       98.290370\n",
       "2  EOS100028               16.25       96.909992\n",
       "3  EOS100028               16.25       97.079382\n",
       "4  EOS100028                5.00       89.661510"
      ]
     },
     "execution_count": 40,
     "metadata": {},
     "output_type": "execute_result"
    }
   ],
   "source": [
    "fir = pd.read_csv(\"data/FIR_file_for_EC50.csv\")\n",
    "fir.head()"
   ]
  },
  {
   "cell_type": "code",
   "execution_count": 41,
   "metadata": {},
   "outputs": [
    {
     "data": {
      "text/html": [
       "<div>\n",
       "<style scoped>\n",
       "    .dataframe tbody tr th:only-of-type {\n",
       "        vertical-align: middle;\n",
       "    }\n",
       "\n",
       "    .dataframe tbody tr th {\n",
       "        vertical-align: top;\n",
       "    }\n",
       "\n",
       "    .dataframe thead th {\n",
       "        text-align: right;\n",
       "    }\n",
       "</style>\n",
       "<table border=\"1\" class=\"dataframe\">\n",
       "  <thead>\n",
       "    <tr style=\"text-align: right;\">\n",
       "      <th></th>\n",
       "      <th>EOS</th>\n",
       "      <th>smiles</th>\n",
       "    </tr>\n",
       "  </thead>\n",
       "  <tbody>\n",
       "    <tr>\n",
       "      <th>0</th>\n",
       "      <td>EOS100028</td>\n",
       "      <td>O=C1Nc2ccccc2/C1=C1\\Nc2ccccc2\\C1=N/O</td>\n",
       "    </tr>\n",
       "    <tr>\n",
       "      <th>16</th>\n",
       "      <td>EOS100057</td>\n",
       "      <td>Cc1ccc(O)cc1Nc1ccnc(Nc2cccc(C(N)=O)c2)n1</td>\n",
       "    </tr>\n",
       "    <tr>\n",
       "      <th>32</th>\n",
       "      <td>EOS100080</td>\n",
       "      <td>CCc1nc2c(C)cc(N3CCN(CC(=O)N4CC(O)C4)CC3)cn2c1N...</td>\n",
       "    </tr>\n",
       "    <tr>\n",
       "      <th>48</th>\n",
       "      <td>EOS100134</td>\n",
       "      <td>Nc1cc2c3ccccc3ccc2c2ccccc12</td>\n",
       "    </tr>\n",
       "    <tr>\n",
       "      <th>64</th>\n",
       "      <td>EOS100147</td>\n",
       "      <td>COc1c(O)cc2oc(-c3ccc(O)cc3)cc(=O)c2c1O</td>\n",
       "    </tr>\n",
       "  </tbody>\n",
       "</table>\n",
       "</div>"
      ],
      "text/plain": [
       "          EOS                                             smiles\n",
       "0   EOS100028               O=C1Nc2ccccc2/C1=C1\\Nc2ccccc2\\C1=N/O\n",
       "16  EOS100057           Cc1ccc(O)cc1Nc1ccnc(Nc2cccc(C(N)=O)c2)n1\n",
       "32  EOS100080  CCc1nc2c(C)cc(N3CCN(CC(=O)N4CC(O)C4)CC3)cn2c1N...\n",
       "48  EOS100134                        Nc1cc2c3ccccc3ccc2c2ccccc12\n",
       "64  EOS100147             COc1c(O)cc2oc(-c3ccc(O)cc3)cc(=O)c2c1O"
      ]
     },
     "execution_count": 41,
     "metadata": {},
     "output_type": "execute_result"
    }
   ],
   "source": [
    "fir_smiles = fir.merge(ecbd[[\"eos\", \"smiles\"]], how=\"inner\", left_on=\"EOS\", right_on=\"eos\") # it is possible that there is no matching smiles\n",
    "fir_smiles = fir_smiles[[\"EOS\", \"smiles\"]]\n",
    "fir_smiles = fir_smiles.drop_duplicates(subset=\"EOS\")\n",
    "fir_smiles.head()"
   ]
  },
  {
   "cell_type": "code",
   "execution_count": 42,
   "metadata": {},
   "outputs": [],
   "source": [
    "rdkit = deepchem.feat.RDKitDescriptors()\n",
    "to_pred = rdkit.featurize(fir_smiles.smiles.to_list())"
   ]
  },
  {
   "cell_type": "code",
   "execution_count": 114,
   "metadata": {},
   "outputs": [],
   "source": [
    "model = xgboost.XGBRegressor()\n",
    "model.load_model(\"data/model.json\")"
   ]
  },
  {
   "cell_type": "code",
   "execution_count": 115,
   "metadata": {},
   "outputs": [],
   "source": [
    "predicted = model.predict(to_pred)"
   ]
  },
  {
   "cell_type": "code",
   "execution_count": 116,
   "metadata": {},
   "outputs": [
    {
     "data": {
      "text/html": [
       "<div>\n",
       "<style scoped>\n",
       "    .dataframe tbody tr th:only-of-type {\n",
       "        vertical-align: middle;\n",
       "    }\n",
       "\n",
       "    .dataframe tbody tr th {\n",
       "        vertical-align: top;\n",
       "    }\n",
       "\n",
       "    .dataframe thead th {\n",
       "        text-align: right;\n",
       "    }\n",
       "</style>\n",
       "<table border=\"1\" class=\"dataframe\">\n",
       "  <thead>\n",
       "    <tr style=\"text-align: right;\">\n",
       "      <th></th>\n",
       "      <th>EOS</th>\n",
       "      <th>smiles</th>\n",
       "      <th>toxicity</th>\n",
       "    </tr>\n",
       "  </thead>\n",
       "  <tbody>\n",
       "    <tr>\n",
       "      <th>0</th>\n",
       "      <td>EOS100028</td>\n",
       "      <td>O=C1Nc2ccccc2/C1=C1\\Nc2ccccc2\\C1=N/O</td>\n",
       "      <td>2.351323</td>\n",
       "    </tr>\n",
       "    <tr>\n",
       "      <th>16</th>\n",
       "      <td>EOS100057</td>\n",
       "      <td>Cc1ccc(O)cc1Nc1ccnc(Nc2cccc(C(N)=O)c2)n1</td>\n",
       "      <td>2.450751</td>\n",
       "    </tr>\n",
       "    <tr>\n",
       "      <th>32</th>\n",
       "      <td>EOS100080</td>\n",
       "      <td>CCc1nc2c(C)cc(N3CCN(CC(=O)N4CC(O)C4)CC3)cn2c1N...</td>\n",
       "      <td>2.797910</td>\n",
       "    </tr>\n",
       "    <tr>\n",
       "      <th>48</th>\n",
       "      <td>EOS100134</td>\n",
       "      <td>Nc1cc2c3ccccc3ccc2c2ccccc12</td>\n",
       "      <td>2.038908</td>\n",
       "    </tr>\n",
       "    <tr>\n",
       "      <th>64</th>\n",
       "      <td>EOS100147</td>\n",
       "      <td>COc1c(O)cc2oc(-c3ccc(O)cc3)cc(=O)c2c1O</td>\n",
       "      <td>2.830247</td>\n",
       "    </tr>\n",
       "  </tbody>\n",
       "</table>\n",
       "</div>"
      ],
      "text/plain": [
       "          EOS                                             smiles  toxicity\n",
       "0   EOS100028               O=C1Nc2ccccc2/C1=C1\\Nc2ccccc2\\C1=N/O  2.351323\n",
       "16  EOS100057           Cc1ccc(O)cc1Nc1ccnc(Nc2cccc(C(N)=O)c2)n1  2.450751\n",
       "32  EOS100080  CCc1nc2c(C)cc(N3CCN(CC(=O)N4CC(O)C4)CC3)cn2c1N...  2.797910\n",
       "48  EOS100134                        Nc1cc2c3ccccc3ccc2c2ccccc12  2.038908\n",
       "64  EOS100147             COc1c(O)cc2oc(-c3ccc(O)cc3)cc(=O)c2c1O  2.830247"
      ]
     },
     "execution_count": 116,
     "metadata": {},
     "output_type": "execute_result"
    }
   ],
   "source": [
    "fir_smiles[\"toxicity\"] = predicted\n",
    "fir_smiles.head()"
   ]
  },
  {
   "cell_type": "code",
   "execution_count": 117,
   "metadata": {},
   "outputs": [],
   "source": [
    "to_save = fir_smiles[[\"EOS\", \"smiles\", \"toxicity\"]]\n",
    "to_save.to_csv(\"data/predictions.csv\")"
   ]
  }
 ],
 "metadata": {
  "kernelspec": {
   "display_name": "drug-screening",
   "language": "python",
   "name": "python3"
  },
  "language_info": {
   "codemirror_mode": {
    "name": "ipython",
    "version": 3
   },
   "file_extension": ".py",
   "mimetype": "text/x-python",
   "name": "python",
   "nbconvert_exporter": "python",
   "pygments_lexer": "ipython3",
   "version": "3.10.12"
  },
  "orig_nbformat": 4
 },
 "nbformat": 4,
 "nbformat_minor": 2
}
